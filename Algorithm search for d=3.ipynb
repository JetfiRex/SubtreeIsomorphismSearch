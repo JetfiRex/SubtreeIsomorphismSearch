{
 "cells": [
  {
   "cell_type": "markdown",
   "metadata": {},
   "source": [
    "You could just run the following notebook without hesitation"
   ]
  },
  {
   "cell_type": "markdown",
   "metadata": {},
   "source": [
    "The following block are the functions to judge whether a graph has a bipartite"
   ]
  },
  {
   "cell_type": "markdown",
   "metadata": {},
   "source": [
    "For each graph, we encode it as a string ```s = 'abcdefghi'```. If we have nodes labelled 0, 1, 2 on both sides, then ```s[3*i+j]``` is for the condition for node $i$ on the left and node $j$ on the right."
   ]
  },
  {
   "cell_type": "code",
   "execution_count": 1,
   "metadata": {},
   "outputs": [],
   "source": [
    "perms = [[0,4,8],[0,5,7],[1,5,6],[1,3,8],[2,4,6],[2,3,7]] #all 6 possible positions for bipartite matching.\n",
    "def bipartite(s):\n",
    "    # Given a fully known graph, return whether it has a perfect matching\n",
    "    for indices in perms:\n",
    "        if s[indices[0]]==\"1\" and s[indices[1]]==\"1\" and s[indices[2]]==\"1\":\n",
    "            return True\n",
    "    return False\n",
    "\n",
    "def bipartite_with_unknown(s):\n",
    "    # Return True/False if there is already a matching or there could never be a matching\n",
    "    # Return None if there are both possibilities\n",
    "    good_s=s.replace(\"x\",\"1\")\n",
    "    bad_s=s.replace(\"x\",\"0\")\n",
    "    if bipartite(bad_s): return True\n",
    "    if bipartite(good_s): return None\n",
    "    return False"
   ]
  },
  {
   "cell_type": "code",
   "execution_count": 2,
   "metadata": {},
   "outputs": [],
   "source": [
    "import json\n",
    "char=\"01x\"\n",
    "all_graph=set() # all possible graphs (encoding as strings)\n",
    "for i in range (3**9):\n",
    "    s=\"\"\n",
    "    n=i\n",
    "    for j in range(9):\n",
    "        s+=char[n%3]\n",
    "        n=n//3\n",
    "    all_graph.add(s)\n",
    "classes=[]\n",
    "\n",
    "char=\"01\"\n",
    "all_graph_cleared=set() # all possible cleared graph. The cleared is for \"without unknown edges\"\n",
    "for i in range (2**9):\n",
    "    s=\"\"\n",
    "    n=i\n",
    "    for j in range(9):\n",
    "        s+=char[n%2]\n",
    "        n=n//2\n",
    "    all_graph_cleared.add(s)\n",
    "classes_cleared = []"
   ]
  },
  {
   "cell_type": "code",
   "execution_count": 3,
   "metadata": {},
   "outputs": [],
   "source": [
    "perm=[[0,1,2],[0,2,1],[1,2,0],[1,0,2],[2,1,0],[2,0,1]]\n",
    "# We do the randomized algorithm as in Virginia's paper:\n",
    "# We do the permutations on nodes on the left and right, and both sides.\n",
    "# Then, take the average\n",
    "\n",
    "# Remember: the edge left i --- right j is represented by graph_string[3*i+j]\n",
    "\n",
    "all_possible_perms = []\n",
    "for perm_left in perm:\n",
    "    for perm_right in perm:\n",
    "        # generate permutation for edges: with left permutation perm_left and right permutation perm_right\n",
    "        mapping={}\n",
    "        for i in range(3):\n",
    "            for j in range(3):\n",
    "                # original left i --- right j\n",
    "                # Now: left perm[i] --- right perm [j]\n",
    "                mapping[i*3+j]=perm_left[i]*3+perm_right[j]\n",
    "        all_possible_perms.append(mapping)\n",
    "\n",
    "# Now, let's swap both sides\n",
    "for perm_right in perm:\n",
    "    for perm_left in perm:\n",
    "        mapping={}\n",
    "        for i in range(3):\n",
    "            for j in range(3):\n",
    "                # original left i --- right j\n",
    "                # permutation: left perm[i] --- right perm [j]\n",
    "                # switch both sides: right perm[j] --- left perm [i]\n",
    "                mapping[i*3+j]=perm_right[j]*3+perm_left[i]\n",
    "        all_possible_perms.append(mapping)\n",
    "\n",
    "def equiv_class(s):\n",
    "    # It returns a mapping for a graph string s. \n",
    "    # The keys are all the isomorphic graphs, \n",
    "    # and the value associated with each key is the mapping FROM (canonical) graph string s TO the key\n",
    "    # That is, if kry:value, then key[value[i]] = s[i] \n",
    "    ans={}\n",
    "    for perm in all_possible_perms: # perm is the permutation TO (canonical) graph string s FROM the key\n",
    "        equiv = \"\"\n",
    "        for ind in range(9):\n",
    "            equiv += s[perm[ind]]\n",
    "        perm2 = {v:k for k,v in perm.items()} #reverse permutation, FROM (canonical) graph string s TO the key\n",
    "        ans[equiv] = perm2\n",
    "    return ans"
   ]
  },
  {
   "cell_type": "code",
   "execution_count": 4,
   "metadata": {},
   "outputs": [],
   "source": [
    "map_from_canonical={}\n",
    "# Draw a graph as canonical from each class of isomirphic type.\n",
    "# The dictionary above is canonical graph for each graph\n",
    "\n",
    "# Categorize the graphs \n",
    "while len(all_graph)!=0:\n",
    "    for graph in all_graph:\n",
    "        break\n",
    "    class_of_graph = equiv_class(graph)\n",
    "    for equiv, mapping in class_of_graph.items():\n",
    "        map_from_canonical[equiv] = mapping\n",
    "    classes.append(list(class_of_graph.keys()))\n",
    "    all_graph -= set(class_of_graph)\n",
    "\n",
    "# Categorize the cleared graphs \n",
    "while len(all_graph_cleared)!=0:\n",
    "    for graph in all_graph_cleared:\n",
    "        break\n",
    "    class_of_graph = equiv_class(graph)\n",
    "    classes_cleared.append(list(class_of_graph.keys()))\n",
    "    all_graph_cleared -= set(class_of_graph)\n",
    "\n",
    "# So we only consider the canonical graphs, and perform same algorithm for isomorphic (equivalent) graphs\n",
    "canonicals = {} # mapping a graph to the mapping to the canonical graph in the \"types\" set\n",
    "types = set() # distinct types of graph\n",
    "for graphs in classes:\n",
    "    canonical = graphs[0]\n",
    "    types.add(canonical)\n",
    "    for graph in graphs:\n",
    "        canonicals[graph] = canonical"
   ]
  },
  {
   "cell_type": "code",
   "execution_count": 5,
   "metadata": {},
   "outputs": [
    {
     "name": "stdout",
     "output_type": "stream",
     "text": [
      "We have originally 19683 graphs, after branching, we only consider 438 graphs\n"
     ]
    }
   ],
   "source": [
    "print(f\"We have originally {3**9} graphs, after branching, we only consider {len(types)} graphs\")"
   ]
  },
  {
   "cell_type": "code",
   "execution_count": 6,
   "metadata": {},
   "outputs": [],
   "source": [
    "def guess(graph, algorithm):\n",
    "    # Given an Algorithm written in the canonical graphs, And we have the query graph.\n",
    "    # Algorithm is a type from \"types\" set to query index\n",
    "    # Return the index to query next.\n",
    "    # It is like: check the canonical --> algorithm query in canonical --> transform the index for the original graph\n",
    "    canon = canonicals[graph]\n",
    "    ask_in_canon = algorithm[canon]\n",
    "    return map_from_canonical[graph][ask_in_canon]\n",
    "\n",
    "def evaluation(algorithm):\n",
    "    # For all the complete graphs, calculate the expected yes and no to query this.\n",
    "    # Return the max expected number of yes and no for all graph, For all the graphs with and without matching.\n",
    "    # Calculate separately if the graph itself is containing/not containing a matching.\n",
    "    yes4yes = 0\n",
    "    crit_yes4yes = None\n",
    "    no4yes = 0\n",
    "    crit_no4yes = None\n",
    "    yes4no = 0\n",
    "    crit_yes4no = None\n",
    "    no4no = 0\n",
    "    crit_no4no = None\n",
    "    for graphs in classes_cleared:\n",
    "        avg_num = len(graphs)\n",
    "        yes = 0\n",
    "        no = 0\n",
    "        for graph in graphs:\n",
    "            begin = \"x\"*9\n",
    "            for _ in range(9):\n",
    "                if bipartite_with_unknown(begin)!=None:\n",
    "                    break\n",
    "                guessing = guess(begin, algorithm)\n",
    "                if graph[guessing] == \"0\": no+=1\n",
    "                else: yes+=1\n",
    "                begin = begin[:guessing]+graph[guessing]+begin[guessing+1:]\n",
    "        avg_yes = yes/avg_num\n",
    "        avg_no = no/avg_num\n",
    "        if bipartite_with_unknown(graphs[0]) == True:\n",
    "            if avg_yes > yes4yes:\n",
    "                yes4yes = avg_yes\n",
    "                crit_yes4yes = graphs[0]\n",
    "            if avg_no > no4yes:\n",
    "                no4yes = avg_no\n",
    "                crit_no4yes = graphs[0]\n",
    "        if bipartite_with_unknown(graphs[0]) == False:\n",
    "            if avg_yes > yes4no:\n",
    "                yes4no = avg_yes\n",
    "                crit_yes4no = graphs[0]\n",
    "            if avg_no > no4no:\n",
    "                no4no = avg_no\n",
    "                crit_no4no = graphs[0]\n",
    "    return (yes4yes, crit_yes4yes, no4yes, crit_no4yes, yes4no, crit_yes4no, no4no, crit_no4no)"
   ]
  },
  {
   "cell_type": "code",
   "execution_count": 7,
   "metadata": {},
   "outputs": [],
   "source": [
    "# de-duplicate: \n",
    "# That is, we have several graphs that has equivalent options\n",
    "# We take only one from each equivalent options\n",
    "# Just for an example, for an all-\"x\" graph, all edges are equivalent. We take one of them\n",
    "\n",
    "valid = {} # mapping from graphs in \"type\" to indices for operation\n",
    "# The structure valid type: \n",
    "# {canonical_graph_1 : \n",
    "#     {operation1: \n",
    "#         (canonical_graph_if_operation_1_is_no, canonical_graph_if_operation_1_is_yes)\n",
    "#      operation2: ...},\n",
    "#  canonical_graph_2: ...}\n",
    "for graph in types:\n",
    "    valid_op = {}\n",
    "    reached = set()\n",
    "    if bipartite_with_unknown(graph)==None: # That is, we need to query.\n",
    "        ind = [i for i in range (9) if graph[i]==\"x\"]\n",
    "        for i in ind:\n",
    "            canonical_0 = canonicals[graph[:i]+\"0\"+graph[i+1:]] # graph with no\n",
    "            canonical_1 = canonicals[graph[:i]+\"1\"+graph[i+1:]] # graph with yes\n",
    "            if (canonical_0,canonical_1) not in reached:\n",
    "                valid_op[i]=(canonical_0,canonical_1)\n",
    "                reached.add((canonical_0,canonical_1))\n",
    "        valid[graph]=valid_op\n",
    "    else:\n",
    "        valid[graph]={}\n",
    "\n",
    "# branching the step with splitting T/F\n",
    "# That is, for several graphs, if there is only one \"x\", we query that\n",
    "# If there is more than one \"x\" and (for example: \"00xx1x1xx\"), if for some unqueried edge queried\n",
    "# we can judge whether there is a matching, (for example, in index 2) then we choose that one-hit-ko edge.\n",
    "valid2 = {}\n",
    "okay = []\n",
    "for graph in valid.keys():\n",
    "    valid_op = valid[graph]\n",
    "    flag = True\n",
    "    if len(valid_op)>=2: # there are several edges\n",
    "        for i in valid_op.keys():\n",
    "            if bipartite_with_unknown(valid_op[i][0])!=None and bipartite_with_unknown(valid_op[i][1])!=None: # one-hit-ko\n",
    "                if flag:\n",
    "                    okay.append(graph)\n",
    "                    flag = False\n",
    "                    valid2[graph]={i : valid_op[i]}\n",
    "    if flag:\n",
    "        valid2[graph]=valid[graph]"
   ]
  },
  {
   "cell_type": "code",
   "execution_count": 8,
   "metadata": {},
   "outputs": [
    {
     "data": {
      "text/plain": [
       "'\\nThe following is a depreciated branching method. This thinks two step.\\nfor graph in valid2.keys():\\n    valid_op = valid2[graph]\\n    True_OK=False\\n    True_OK_ind=None\\n    False_OK=False\\n    False_OK_ind=None\\n    True_UNK=False\\n    False_UNK=False\\n    if len(valid_op)>=2:\\n        for i in valid_op.keys():\\n            config0=bipartite_with_unknown(valid_op[i][0])\\n            config1=bipartite_with_unknown(valid_op[i][1])\\n            if config1==True:\\n                True_UNK = True\\n                if valid_op[i][0] in okay:\\n                    True_OK = True\\n                    True_OK_ind = i\\n            if config0==False:\\n                False_UNK=True\\n                if valid_op[i][1] in okay:\\n                    False_OK = True\\n                    False_OK_ind = i\\n        if True_OK==True and False_UNK==False:\\n            valid2[graph]={True_OK_ind:valid_op[True_OK_ind]}\\n        elif False_OK==True and not True_UNK==True:\\n            valid2[graph]={False_OK_ind:valid_op[False_OK_ind]}\\n'"
      ]
     },
     "execution_count": 8,
     "metadata": {},
     "output_type": "execute_result"
    }
   ],
   "source": [
    "'''\n",
    "The following is a depreciated branching method. This thinks two step.\n",
    "for graph in valid2.keys():\n",
    "    valid_op = valid2[graph]\n",
    "    True_OK=False\n",
    "    True_OK_ind=None\n",
    "    False_OK=False\n",
    "    False_OK_ind=None\n",
    "    True_UNK=False\n",
    "    False_UNK=False\n",
    "    if len(valid_op)>=2:\n",
    "        for i in valid_op.keys():\n",
    "            config0=bipartite_with_unknown(valid_op[i][0])\n",
    "            config1=bipartite_with_unknown(valid_op[i][1])\n",
    "            if config1==True:\n",
    "                True_UNK = True\n",
    "                if valid_op[i][0] in okay:\n",
    "                    True_OK = True\n",
    "                    True_OK_ind = i\n",
    "            if config0==False:\n",
    "                False_UNK=True\n",
    "                if valid_op[i][1] in okay:\n",
    "                    False_OK = True\n",
    "                    False_OK_ind = i\n",
    "        if True_OK==True and False_UNK==False:\n",
    "            valid2[graph]={True_OK_ind:valid_op[True_OK_ind]}\n",
    "        elif False_OK==True and not True_UNK==True:\n",
    "            valid2[graph]={False_OK_ind:valid_op[False_OK_ind]}\n",
    "'''"
   ]
  },
  {
   "cell_type": "code",
   "execution_count": 9,
   "metadata": {},
   "outputs": [
    {
     "name": "stdout",
     "output_type": "stream",
     "text": [
      "After branching, there are still 169 out of 438 graphs rest to consider.\n"
     ]
    }
   ],
   "source": [
    "rest = len([i for i in valid2.keys() if len(valid2[i])>1])\n",
    "print(f\"After branching, there are still {rest} out of {len(types)} graphs rest to consider.\")"
   ]
  },
  {
   "cell_type": "code",
   "execution_count": 10,
   "metadata": {},
   "outputs": [
    {
     "name": "stdout",
     "output_type": "stream",
     "text": [
      "x0x0x0000:{}\n",
      "1x11x1000:{}\n",
      "x0110xx1x:{}\n",
      "x01x01000:{}\n",
      "xx000111x:{0: ('10x100x10', '11x1x0001'), 8: ('1000x10x1', 'xx0111001')}\n",
      "0x1xxxx0x:{1: ('010xxxxx0', 'xx00x1xx1'), 3: ('xx10x0x0x', '10xx1xxx0'), 4: ('x000xx1xx', 'x0xx1x1x0'), 5: ('10x0xxxx0', '0xxxx011x'), 6: ('x0100xxxx', 'xx1x10x0x'), 8: ('0xxxx00x1', '1x010xxxx')}\n"
     ]
    }
   ],
   "source": [
    "# Here is a look of what valid looks like:\n",
    "count = 5\n",
    "for k,v in valid2.items():\n",
    "    if count<0:\n",
    "        break\n",
    "    print(f\"{k}:{v}\")\n",
    "    count-=1"
   ]
  },
  {
   "cell_type": "code",
   "execution_count": 11,
   "metadata": {},
   "outputs": [],
   "source": [
    "selections = valid2\n",
    "number_of_known={i:set() for i in range(10)}\n",
    "travelling_list = []\n",
    "# order the types of graphs from less \"x\" to more \"x\"\n",
    "for graph in types:\n",
    "    number_of_known[graph.count(\"x\")].add(graph)\n",
    "for i in range(10):\n",
    "    travelling_list+=number_of_known[i]\n",
    "\n",
    "yes_vs_no={} # {graph:(number of yes, number of no)}\n",
    "# Here suppose yes_vs_no[graph] = (a,b), and there are c \"x\"'s in the graph\n",
    "# Then, we have a+b=2^c.\n",
    "# If we choose every \"x\" arbitrarily, there are at most 2^c consequences.\n",
    "# a out of 2^c consequences has a matching, and b of 2^c consequences are not.\n",
    "for graph in travelling_list:\n",
    "    if \"x\" not in graph:\n",
    "        yes_vs_no[graph] = (1,0) if bipartite_with_unknown(graph) else (0,1)\n",
    "    else:\n",
    "        ind = graph.index(\"x\")\n",
    "        yes_graph = canonicals[graph[:ind]+\"1\"+graph[ind+1:]]\n",
    "        no_graph = canonicals[graph[:ind]+\"0\"+graph[ind+1:]]\n",
    "        total_yes = yes_vs_no[yes_graph][0]+yes_vs_no[no_graph][0]\n",
    "        total_no = yes_vs_no[yes_graph][1]+yes_vs_no[no_graph][1]\n",
    "        # That is why we order the graph from less \"x\" to more \"x\"... we can recurse!\n",
    "        yes_vs_no[graph] = (total_yes, total_no)\n",
    "\n",
    "pre_algorithm = {} # First rule out all the selections with smaller number of true graphs if the query edge is true.\n",
    "for graph in valid2.keys():\n",
    "    max_diff = -1\n",
    "    max_indices = set()\n",
    "    selection = valid2[graph]\n",
    "    # This is a heuristic! A heuristic branching!\n",
    "    # Choose a graph that has more splitting choice.\n",
    "    # That is, the absolute value of the difference of \"True\" consequences between two outcome (0 and 1) for the chosen graph\n",
    "    # is made biggest.\n",
    "    for index in selection.keys():\n",
    "        # Remember the structure of valid2?\n",
    "        go_to = selection[index]\n",
    "        yes_graph = go_to[1]\n",
    "        no_graph = go_to[0]\n",
    "        yes_for_yes = yes_vs_no[yes_graph][0]\n",
    "        yes_for_no = yes_vs_no[no_graph][0]\n",
    "        if abs(yes_for_yes-yes_for_no) > max_diff:\n",
    "            max_indices = {index}\n",
    "            max_diff = abs(yes_for_yes-yes_for_no)\n",
    "        elif abs(yes_for_yes-yes_for_no) == max_diff:\n",
    "            max_indices.add(index)\n",
    "    pre_algorithm[graph] = {i:selection[i] for i in max_indices}"
   ]
  },
  {
   "cell_type": "code",
   "execution_count": 12,
   "metadata": {},
   "outputs": [
    {
     "name": "stdout",
     "output_type": "stream",
     "text": [
      "After heuristic branching, there are still 61 out of 169 graphs rest to consider. It is small enough to search!\n"
     ]
    }
   ],
   "source": [
    "rest2 = len([i for i in valid2.keys() if len(pre_algorithm[i])>1])\n",
    "print(f\"After heuristic branching, there are still {rest2} out of {rest} graphs rest to consider. It is small enough to search!\")"
   ]
  },
  {
   "cell_type": "code",
   "execution_count": 13,
   "metadata": {},
   "outputs": [],
   "source": [
    "# All the possible algorithms.\n",
    "total_algo = {i:[] for i in types}\n",
    "\n",
    "# Let's search! We store the algorithms starting with graph g in total_algo[g].\n",
    "for graph in travelling_list:\n",
    "    if pre_algorithm[graph] == {}:\n",
    "        total_algo[graph] = set()\n",
    "    else:\n",
    "        option = pre_algorithm[graph]\n",
    "        for i in option.keys():\n",
    "            yes_to = option[i][0]\n",
    "            no_to = option[i][1]\n",
    "            yes_algo = total_algo[yes_to]\n",
    "            no_algo = total_algo[no_to]\n",
    "            if len(yes_algo)==0 and len(no_algo)==0:\n",
    "                total_algo[graph].append({graph:i})\n",
    "            elif len(yes_algo)==0 or len(no_algo)==0:\n",
    "                for algo in list(yes_algo)+list(no_algo):\n",
    "                    init={graph:i}\n",
    "                    init.update(algo)\n",
    "                    total_algo[graph].append(init)\n",
    "            else:\n",
    "                for y_algo in yes_algo:\n",
    "                    for n_algo in no_algo:\n",
    "                        init={graph:i}\n",
    "                        init.update(y_algo)\n",
    "                        init.update(n_algo)\n",
    "                        total_algo[graph].append(init)\n",
    "        #print(\"graph\",graph,\"has\",len(algorithms[graph]),\"possible algorithms\")\n",
    "#print(\"finish\")"
   ]
  },
  {
   "cell_type": "code",
   "execution_count": 14,
   "metadata": {},
   "outputs": [
    {
     "data": {
      "text/plain": [
       "512"
      ]
     },
     "execution_count": 14,
     "metadata": {},
     "output_type": "execute_result"
    }
   ],
   "source": [
    "len(total_algo[\"xxxxxxxxx\"])\n",
    "# You can calculate yourself: there is a LOT of graphs (if I did not remembered wrong) \n",
    "# even for total_algo[\"0xxxxxxxx\"] if there is bo heuristic branching!\n",
    "# That is why I forfeited the last step of searching... you can do better!"
   ]
  },
  {
   "cell_type": "code",
   "execution_count": 15,
   "metadata": {},
   "outputs": [
    {
     "data": {
      "text/plain": [
       "'\\nA deppreciated method to calculate one of the algorithm.\\nalgorithm = {}\\ncur = {\"x\"*9}\\nfor i in range(10):\\n    aux = set()\\n    for graph in cur:\\n        selection = selections[graph]\\n        if len(selection)>0:\\n            max_diff = -1\\n            max_index = -1\\n            for index in selection.keys():\\n                go_to = selection[index]\\n                yes_graph = go_to[1]\\n                no_graph = go_to[0]\\n                yes_for_yes = yes_vs_no[yes_graph][0]\\n                yes_for_no = yes_vs_no[no_graph][0]\\n                if abs(yes_for_yes-yes_for_no) > max_diff:\\n                    max_index = index\\n                    max_diff = abs(yes_for_yes-yes_for_no)\\n            algorithm[graph] = int(max_index)\\n            aux|=set(selection[max_index])\\n    cur = aux\\n\\nevals = evaluation(algorithm)\\nyes4yes = evals[0]\\nno4yes = evals[2]\\nyes4no = evals[4]\\nno4no = evals[6]\\nimport math\\nprint((yes4yes + no4no)/2 + math.sqrt((yes4yes - no4no)**2/4 + no4yes*yes4no))\\n'"
      ]
     },
     "execution_count": 15,
     "metadata": {},
     "output_type": "execute_result"
    }
   ],
   "source": [
    "'''\n",
    "A deppreciated method to calculate one of the algorithm.\n",
    "algorithm = {}\n",
    "cur = {\"x\"*9}\n",
    "for i in range(10):\n",
    "    aux = set()\n",
    "    for graph in cur:\n",
    "        selection = selections[graph]\n",
    "        if len(selection)>0:\n",
    "            max_diff = -1\n",
    "            max_index = -1\n",
    "            for index in selection.keys():\n",
    "                go_to = selection[index]\n",
    "                yes_graph = go_to[1]\n",
    "                no_graph = go_to[0]\n",
    "                yes_for_yes = yes_vs_no[yes_graph][0]\n",
    "                yes_for_no = yes_vs_no[no_graph][0]\n",
    "                if abs(yes_for_yes-yes_for_no) > max_diff:\n",
    "                    max_index = index\n",
    "                    max_diff = abs(yes_for_yes-yes_for_no)\n",
    "            algorithm[graph] = int(max_index)\n",
    "            aux|=set(selection[max_index])\n",
    "    cur = aux\n",
    "\n",
    "evals = evaluation(algorithm)\n",
    "yes4yes = evals[0]\n",
    "no4yes = evals[2]\n",
    "yes4no = evals[4]\n",
    "no4no = evals[6]\n",
    "import math\n",
    "print((yes4yes + no4no)/2 + math.sqrt((yes4yes - no4no)**2/4 + no4yes*yes4no))\n",
    "'''"
   ]
  },
  {
   "cell_type": "code",
   "execution_count": 16,
   "metadata": {},
   "outputs": [],
   "source": [
    "import math\n",
    "# Calculate the best algorithm and its eigenvalue.\n",
    "# Search, Enumerate, and Evaluate!\n",
    "min_eigen = 9\n",
    "best_algo = None\n",
    "for algo in total_algo[\"x\"*9]:\n",
    "    evals = evaluation(algo)\n",
    "    yes4yes = evals[0]\n",
    "    no4yes = evals[2]\n",
    "    yes4no = evals[4]\n",
    "    no4no = evals[6]\n",
    "    eigen = (yes4yes + no4no)/2 + math.sqrt((yes4yes - no4no)**2/4 + no4yes*yes4no) # This is the largest eigenvalue.\n",
    "    if eigen < min_eigen:\n",
    "        best_algo = algo\n",
    "        min_eigen = eigen"
   ]
  },
  {
   "cell_type": "code",
   "execution_count": 17,
   "metadata": {},
   "outputs": [
    {
     "data": {
      "text/plain": [
       "5.9816453557597065"
      ]
     },
     "execution_count": 17,
     "metadata": {},
     "output_type": "execute_result"
    }
   ],
   "source": [
    "min_eigen # This is my bound!"
   ]
  },
  {
   "cell_type": "code",
   "execution_count": 18,
   "metadata": {
    "scrolled": true
   },
   "outputs": [
    {
     "data": {
      "text/plain": [
       "{'xxxxxxxxx': 0,\n",
       " 'xxxxx0xxx': 2,\n",
       " 'xxxxx0xx0': 2,\n",
       " '001xxxxxx': 3,\n",
       " '010xxxxx0': 6,\n",
       " 'xxx0100x1': 0,\n",
       " 'xx1xxx010': 3,\n",
       " '1x0x00xx1': 1,\n",
       " '101x1x00x': 8,\n",
       " 'xxxxxx01x': 0,\n",
       " '0x0xx1xxx': 1,\n",
       " 'xxx1xx01x': 2,\n",
       " '10xx1xxx0': 2,\n",
       " 'xx1110x0x': 6,\n",
       " 'x000111xx': 0,\n",
       " '101010x1x': 6,\n",
       " '0x1110001': 1,\n",
       " 'xxxxxxxx1': 0,\n",
       " 'xxx1xxx0x': 1,\n",
       " 'x0xx0x1xx': 7,\n",
       " 'xxx010x1x': 6,\n",
       " '10x100xxx': 2,\n",
       " '10x00x11x': 5,\n",
       " '11x10xx0x': 8,\n",
       " 'x001x11x0': 0,\n",
       " '111001x0x': 6,\n",
       " 'xxx01xxx1': 0,\n",
       " 'x1x0xx0x1': 0,\n",
       " 'xx01x1x10': 0,\n",
       " '100xx110x': 8,\n",
       " '0011xx101': 4,\n",
       " 'xx1xxxx1x': 3,\n",
       " '1xxxx0x1x': 2,\n",
       " 'xx111xx0x': 6,\n",
       " '01x01xxx1': 6,\n",
       " '1001xxx11': 4,\n",
       " '0101x1x10': 6}"
      ]
     },
     "execution_count": 18,
     "metadata": {},
     "output_type": "execute_result"
    }
   ],
   "source": [
    "best_algo # This is my algorithm!"
   ]
  },
  {
   "cell_type": "code",
   "execution_count": 19,
   "metadata": {},
   "outputs": [
    {
     "data": {
      "text/plain": [
       "(3.6666666666666665,\n",
       " '111101001',\n",
       " 1.6944444444444444,\n",
       " '101001110',\n",
       " 2.5555555555555554,\n",
       " '001001110',\n",
       " 4.111111111111111,\n",
       " '001001110')"
      ]
     },
     "execution_count": 19,
     "metadata": {},
     "output_type": "execute_result"
    }
   ],
   "source": [
    "evaluation(best_algo)"
   ]
  }
 ],
 "metadata": {
  "@webio": {
   "lastCommId": null,
   "lastKernelId": null
  },
  "kernelspec": {
   "display_name": "Python 3 (ipykernel)",
   "language": "python",
   "name": "python3"
  },
  "language_info": {
   "codemirror_mode": {
    "name": "ipython",
    "version": 3
   },
   "file_extension": ".py",
   "mimetype": "text/x-python",
   "name": "python",
   "nbconvert_exporter": "python",
   "pygments_lexer": "ipython3",
   "version": "3.9.7"
  }
 },
 "nbformat": 4,
 "nbformat_minor": 4
}
