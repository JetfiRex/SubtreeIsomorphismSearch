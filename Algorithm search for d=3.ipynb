{
 "cells": [
  {
   "cell_type": "markdown",
   "metadata": {},
   "source": [
    "You could just run the following notebook without hesitation"
   ]
  },
  {
   "cell_type": "markdown",
   "metadata": {},
   "source": [
    "The following block are the functions to judge whether a graph has a bipartite"
   ]
  },
  {
   "cell_type": "code",
   "execution_count": 19,
   "metadata": {},
   "outputs": [],
   "source": [
    "perms = [[0,4,8],[0,5,7],[1,5,6],[1,3,8],[2,4,6],[2,3,7]]\n",
    "def bipartite(s):\n",
    "    for indices in perms:\n",
    "        if s[indices[0]]==\"1\" and s[indices[1]]==\"1\" and s[indices[2]]==\"1\":\n",
    "            return True\n",
    "    return False\n",
    "\n",
    "def bipartite_with_unknown(s):\n",
    "    # Return True/False if there is already a matching or there could never be a matching\n",
    "    # Return None if there are both probabilities\n",
    "    good_s=s.replace(\"x\",\"1\")\n",
    "    bad_s=s.replace(\"x\",\"0\")\n",
    "    if bipartite(bad_s): return True\n",
    "    if bipartite(good_s): return None\n",
    "    return False"
   ]
  },
  {
   "cell_type": "code",
   "execution_count": 20,
   "metadata": {},
   "outputs": [],
   "source": [
    "import json\n",
    "char=\"01x\"\n",
    "all_graph=set() # all possible graph\n",
    "for i in range (3**9):\n",
    "    s=\"\"\n",
    "    n=i\n",
    "    for j in range(9):\n",
    "        s+=char[n%3]\n",
    "        n=n//3\n",
    "    all_graph.add(s)\n",
    "classes=[]\n",
    "\n",
    "char=\"01\"\n",
    "all_graph_complete=set() # all possible complete graph. The complete is for \"without unknown edges\"\n",
    "for i in range (2**9):\n",
    "    s=\"\"\n",
    "    n=i\n",
    "    for j in range(9):\n",
    "        s+=char[n%2]\n",
    "        n=n//2\n",
    "    all_graph_complete.add(s)\n",
    "classes_complete = []"
   ]
  },
  {
   "cell_type": "code",
   "execution_count": 21,
   "metadata": {},
   "outputs": [],
   "source": [
    "perm=[[0,1,2],[0,2,1],[1,2,0],[1,0,2],[2,1,0],[2,0,1]]\n",
    "\n",
    "all_possible_perms = []\n",
    "for i in perm:\n",
    "    for j in perm:\n",
    "        equiv=\"\"\n",
    "        mapping={}\n",
    "        for k in range(3):\n",
    "            for l in range(3):\n",
    "                mapping[k*3+l]=i[k]*3+j[l]\n",
    "        all_possible_perms.append(mapping)\n",
    "for i in perm:\n",
    "    for j in perm:\n",
    "        equiv=\"\"\n",
    "        mapping={}\n",
    "        for k in range(3):\n",
    "            for l in range(3):\n",
    "                mapping[k+3*l]=i[k]*3+j[l]\n",
    "        all_possible_perms.append(mapping)\n",
    "\n",
    "def equiv_class(s):\n",
    "    # It returns a mappings. \n",
    "    # The keys are all the isomorphic graphs, \n",
    "    # and the value associated with each key is the mapping FROM canonical s TO the key\n",
    "    ans={}\n",
    "    for perm in all_possible_perms:\n",
    "        equiv = \"\"\n",
    "        for ind in range(9):\n",
    "            equiv += s[perm[ind]]\n",
    "        perm2 = {v:k for k,v in perm.items()}\n",
    "        ans[equiv] = perm2\n",
    "    return ans"
   ]
  },
  {
   "cell_type": "code",
   "execution_count": 22,
   "metadata": {},
   "outputs": [],
   "source": [
    "map_from_canonical={}\n",
    "# Draw a graph as canonical from each class of isomirphic type.\n",
    "# The dictionary above is canonical graph for each graph\n",
    "while len(all_graph)!=0:\n",
    "    for graph in all_graph:\n",
    "        break\n",
    "    class_of_graph = equiv_class(graph)\n",
    "    for equiv in class_of_graph.keys():\n",
    "        map_from_canonical[equiv] = class_of_graph[equiv]\n",
    "    classes.append(list(class_of_graph.keys()))\n",
    "    all_graph -= set(class_of_graph)\n",
    "\n",
    "while len(all_graph_complete)!=0:\n",
    "    for graph in all_graph_complete:\n",
    "        break\n",
    "    class_of_graph = equiv_class(graph)\n",
    "    classes_complete.append(list(class_of_graph.keys()))\n",
    "    all_graph_complete -= set(class_of_graph)\n",
    "    \n",
    "canonicals = {}\n",
    "types = set() #distinct types of graph\n",
    "for graphs in classes:\n",
    "    canonical = graphs[0]\n",
    "    types.add(canonical)\n",
    "    for graph in graphs:\n",
    "        canonicals[graph] = canonical"
   ]
  },
  {
   "cell_type": "code",
   "execution_count": 23,
   "metadata": {},
   "outputs": [],
   "source": [
    "def guess(graph, algorithm):\n",
    "    # Given anAlgorithm written in the canonical graphs, And we have the query graph.\n",
    "    # Return the index.\n",
    "    canon = canonicals[graph]\n",
    "    ask_in_canon = algorithm[canon]\n",
    "    return map_from_canonical[graph][ask_in_canon]\n",
    "\n",
    "def evaluation(algorithm):\n",
    "    # For all the complete graphs, calculate the expected yes and no to query this.\n",
    "    # Return the max expected number of yes and no for all graph, For all the graphs with and without matching.\n",
    "    # Calculate separately if the graph itself is containing/not containing a matching.\n",
    "    yes4yes = 0\n",
    "    crit_yes4yes = None\n",
    "    no4yes = 0\n",
    "    crit_no4yes = None\n",
    "    yes4no = 0\n",
    "    crit_yes4no = None\n",
    "    no4no = 0\n",
    "    crit_no4no = None\n",
    "    for graphs in classes_complete:\n",
    "        avg_num = len(graphs)\n",
    "        yes = 0\n",
    "        no = 0\n",
    "        for graph in graphs:\n",
    "            begin = \"x\"*9\n",
    "            for _ in range(9):\n",
    "                if bipartite_with_unknown(begin)!=None:\n",
    "                    break\n",
    "                guessing = guess(begin, algorithm)\n",
    "                if graph[guessing] == \"0\": no+=1\n",
    "                else: yes+=1\n",
    "                begin = begin[:guessing]+graph[guessing]+begin[guessing+1:]\n",
    "        avg_yes = yes/avg_num\n",
    "        avg_no = no/avg_num\n",
    "        if bipartite_with_unknown(graphs[0]) == True:\n",
    "            if avg_yes > yes4yes:\n",
    "                yes4yes = avg_yes\n",
    "                crit_yes4yes = graphs[0]\n",
    "            if avg_no > no4yes:\n",
    "                no4yes = avg_no\n",
    "                crit_no4yes = graphs[0]\n",
    "        if bipartite_with_unknown(graphs[0]) == False:\n",
    "            if avg_yes > yes4no:\n",
    "                yes4no = avg_yes\n",
    "                crit_yes4no = graphs[0]\n",
    "            if avg_no > no4no:\n",
    "                no4no = avg_no\n",
    "                crit_no4no = graphs[0]\n",
    "    return (yes4yes, crit_yes4yes, no4yes, crit_no4yes, yes4no, crit_yes4no, no4no, crit_no4no)"
   ]
  },
  {
   "cell_type": "code",
   "execution_count": 24,
   "metadata": {},
   "outputs": [],
   "source": [
    "# de-duplicate\n",
    "valid = {}\n",
    "for graph in types:\n",
    "    valid_op = {}\n",
    "    reached = set()\n",
    "    if bipartite_with_unknown(graph)==None:\n",
    "        ind = [i for i in range (9) if graph[i]==\"x\"]\n",
    "        for i in ind:\n",
    "            canonical_0 = canonicals[graph[:i]+\"0\"+graph[i+1:]]\n",
    "            canonical_1 = canonicals[graph[:i]+\"1\"+graph[i+1:]]\n",
    "            if (canonical_0,canonical_1) not in reached:\n",
    "                valid_op[i]=(canonical_0,canonical_1)\n",
    "                reached.add((canonical_0,canonical_1))\n",
    "        valid[graph]=valid_op\n",
    "    else:\n",
    "        valid[graph]={}\n",
    "\n",
    "# branching the step with splitting T/F\n",
    "valid2 = {}\n",
    "okay = []\n",
    "for graph in valid.keys():\n",
    "    valid_op = valid[graph]\n",
    "    flag = True\n",
    "    if len(valid_op)>=2:\n",
    "        for i in valid_op.keys():\n",
    "            if bipartite_with_unknown(valid_op[i][0])!=None and bipartite_with_unknown(valid_op[i][1])!=None:\n",
    "                if flag:\n",
    "                    okay.append(graph)\n",
    "                    flag = False\n",
    "                    valid2[graph]={i : valid_op[i]}\n",
    "    if flag:\n",
    "        valid2[graph]=valid[graph]"
   ]
  },
  {
   "cell_type": "code",
   "execution_count": 25,
   "metadata": {},
   "outputs": [
    {
     "data": {
      "text/plain": [
       "'\\nThe following is a depreciated branching method\\nfor graph in valid2.keys():\\n    valid_op = valid2[graph]\\n    True_OK=False\\n    True_OK_ind=None\\n    False_OK=False\\n    False_OK_ind=None\\n    True_UNK=False\\n    False_UNK=False\\n    if len(valid_op)>=2:\\n        for i in valid_op.keys():\\n            config0=bipartite_with_unknown(valid_op[i][0])\\n            config1=bipartite_with_unknown(valid_op[i][1])\\n            if config1==True:\\n                True_UNK = True\\n                if valid_op[i][0] in okay:\\n                    True_OK = True\\n                    True_OK_ind = i\\n            if config0==False:\\n                False_UNK=True\\n                if valid_op[i][1] in okay:\\n                    False_OK = True\\n                    False_OK_ind = i\\n        if True_OK==True and False_UNK==False:\\n            valid2[graph]={True_OK_ind:valid_op[True_OK_ind]}\\n        elif False_OK==True and not True_UNK==True:\\n            valid2[graph]={False_OK_ind:valid_op[False_OK_ind]}\\n'"
      ]
     },
     "execution_count": 25,
     "metadata": {},
     "output_type": "execute_result"
    }
   ],
   "source": [
    "'''\n",
    "The following is a depreciated branching method\n",
    "for graph in valid2.keys():\n",
    "    valid_op = valid2[graph]\n",
    "    True_OK=False\n",
    "    True_OK_ind=None\n",
    "    False_OK=False\n",
    "    False_OK_ind=None\n",
    "    True_UNK=False\n",
    "    False_UNK=False\n",
    "    if len(valid_op)>=2:\n",
    "        for i in valid_op.keys():\n",
    "            config0=bipartite_with_unknown(valid_op[i][0])\n",
    "            config1=bipartite_with_unknown(valid_op[i][1])\n",
    "            if config1==True:\n",
    "                True_UNK = True\n",
    "                if valid_op[i][0] in okay:\n",
    "                    True_OK = True\n",
    "                    True_OK_ind = i\n",
    "            if config0==False:\n",
    "                False_UNK=True\n",
    "                if valid_op[i][1] in okay:\n",
    "                    False_OK = True\n",
    "                    False_OK_ind = i\n",
    "        if True_OK==True and False_UNK==False:\n",
    "            valid2[graph]={True_OK_ind:valid_op[True_OK_ind]}\n",
    "        elif False_OK==True and not True_UNK==True:\n",
    "            valid2[graph]={False_OK_ind:valid_op[False_OK_ind]}\n",
    "'''"
   ]
  },
  {
   "cell_type": "code",
   "execution_count": 26,
   "metadata": {},
   "outputs": [
    {
     "name": "stdout",
     "output_type": "stream",
     "text": [
      "169\n"
     ]
    }
   ],
   "source": [
    "print(len([i for i in valid2.keys() if len(valid2[i])>1]))"
   ]
  },
  {
   "cell_type": "code",
   "execution_count": 27,
   "metadata": {},
   "outputs": [],
   "source": [
    "selections = valid2\n",
    "number_of_known={i:set() for i in range(10)}\n",
    "travelling_list = []\n",
    "for graph in types:\n",
    "    number_of_known[graph.count(\"x\")].add(graph)\n",
    "for i in range(10):\n",
    "    travelling_list+=number_of_known[i]\n",
    "\n",
    "yes_vs_no={} # {graph:(number of yes, number of no)}\n",
    "for graph in travelling_list:\n",
    "    if \"x\" not in graph:\n",
    "        yes_vs_no[graph] = (1,0) if bipartite_with_unknown(graph) else (0,1)\n",
    "    else:\n",
    "        ind = graph.index(\"x\")\n",
    "        yes_graph = canonicals[graph[:ind]+\"1\"+graph[ind+1:]]\n",
    "        no_graph = canonicals[graph[:ind]+\"0\"+graph[ind+1:]]\n",
    "        total_yes = yes_vs_no[yes_graph][0]+yes_vs_no[no_graph][0]\n",
    "        total_no = yes_vs_no[yes_graph][1]+yes_vs_no[no_graph][1]\n",
    "        yes_vs_no[graph] = (total_yes, total_no)\n",
    "\n",
    "pre_algorithm = {} # First rule out all the selections with smaller number of true graphs if the query edge is true.\n",
    "for graph in valid2.keys():\n",
    "    max_diff = -1\n",
    "    max_indices = set()\n",
    "    selection = valid2[graph]\n",
    "    for index in selection.keys():\n",
    "        go_to = selection[index]\n",
    "        yes_graph = go_to[1]\n",
    "        no_graph = go_to[0]\n",
    "        yes_for_yes = yes_vs_no[yes_graph][0]\n",
    "        yes_for_no = yes_vs_no[no_graph][0]\n",
    "        if abs(yes_for_yes-yes_for_no) > max_diff:\n",
    "            max_indices = {index}\n",
    "            max_diff = abs(yes_for_yes-yes_for_no)\n",
    "        elif abs(yes_for_yes-yes_for_no) == max_diff:\n",
    "            max_indices.add(index)\n",
    "    pre_algorithm[graph] = {i:selection[i] for i in max_indices}"
   ]
  },
  {
   "cell_type": "code",
   "execution_count": 28,
   "metadata": {},
   "outputs": [],
   "source": [
    "# All the possible algorithms.\n",
    "total_algo = {i:[] for i in types}\n",
    "for graph in travelling_list:\n",
    "    if pre_algorithm[graph] == {}:\n",
    "        total_algo[graph] = set()\n",
    "    else:\n",
    "        option = pre_algorithm[graph]\n",
    "        for i in option.keys():\n",
    "            yes_to = option[i][0]\n",
    "            no_to = option[i][1]\n",
    "            yes_algo = total_algo[yes_to]\n",
    "            no_algo = total_algo[no_to]\n",
    "            if len(yes_algo)==0 and len(no_algo)==0:\n",
    "                total_algo[graph].append({graph:i})\n",
    "            elif len(yes_algo)==0 or len(no_algo)==0:\n",
    "                for algo in list(yes_algo)+list(no_algo):\n",
    "                    init={graph:i}\n",
    "                    init.update(algo)\n",
    "                    total_algo[graph].append(init)\n",
    "            else:\n",
    "                for y_algo in yes_algo:\n",
    "                    for n_algo in no_algo:\n",
    "                        init={graph:i}\n",
    "                        init.update(y_algo)\n",
    "                        init.update(n_algo)\n",
    "                        total_algo[graph].append(init)\n",
    "        #print(\"graph\",graph,\"has\",len(algorithms[graph]),\"possible algorithms\")\n",
    "#print(\"finish\")"
   ]
  },
  {
   "cell_type": "code",
   "execution_count": 29,
   "metadata": {},
   "outputs": [
    {
     "data": {
      "text/plain": [
       "512"
      ]
     },
     "execution_count": 29,
     "metadata": {},
     "output_type": "execute_result"
    }
   ],
   "source": [
    "len(total_algo[\"xxxxxxxxx\"])"
   ]
  },
  {
   "cell_type": "code",
   "execution_count": 30,
   "metadata": {},
   "outputs": [
    {
     "data": {
      "text/plain": [
       "'\\nA deppreciated method to calculate one of the algorithm.\\nalgorithm = {}\\ncur = {\"x\"*9}\\nfor i in range(10):\\n    aux = set()\\n    for graph in cur:\\n        selection = selections[graph]\\n        if len(selection)>0:\\n            max_diff = -1\\n            max_index = -1\\n            for index in selection.keys():\\n                go_to = selection[index]\\n                yes_graph = go_to[1]\\n                no_graph = go_to[0]\\n                yes_for_yes = yes_vs_no[yes_graph][0]\\n                yes_for_no = yes_vs_no[no_graph][0]\\n                if abs(yes_for_yes-yes_for_no) > max_diff:\\n                    max_index = index\\n                    max_diff = abs(yes_for_yes-yes_for_no)\\n            algorithm[graph] = int(max_index)\\n            aux|=set(selection[max_index])\\n    cur = aux\\n\\nevals = evaluation(algorithm)\\nyes4yes = evals[0]\\nno4yes = evals[2]\\nyes4no = evals[4]\\nno4no = evals[6]\\nimport math\\nprint((yes4yes + no4no)/2 + math.sqrt((yes4yes - no4no)**2/4 + no4yes*yes4no))\\n'"
      ]
     },
     "execution_count": 30,
     "metadata": {},
     "output_type": "execute_result"
    }
   ],
   "source": [
    "'''\n",
    "A deppreciated method to calculate one of the algorithm.\n",
    "algorithm = {}\n",
    "cur = {\"x\"*9}\n",
    "for i in range(10):\n",
    "    aux = set()\n",
    "    for graph in cur:\n",
    "        selection = selections[graph]\n",
    "        if len(selection)>0:\n",
    "            max_diff = -1\n",
    "            max_index = -1\n",
    "            for index in selection.keys():\n",
    "                go_to = selection[index]\n",
    "                yes_graph = go_to[1]\n",
    "                no_graph = go_to[0]\n",
    "                yes_for_yes = yes_vs_no[yes_graph][0]\n",
    "                yes_for_no = yes_vs_no[no_graph][0]\n",
    "                if abs(yes_for_yes-yes_for_no) > max_diff:\n",
    "                    max_index = index\n",
    "                    max_diff = abs(yes_for_yes-yes_for_no)\n",
    "            algorithm[graph] = int(max_index)\n",
    "            aux|=set(selection[max_index])\n",
    "    cur = aux\n",
    "\n",
    "evals = evaluation(algorithm)\n",
    "yes4yes = evals[0]\n",
    "no4yes = evals[2]\n",
    "yes4no = evals[4]\n",
    "no4no = evals[6]\n",
    "import math\n",
    "print((yes4yes + no4no)/2 + math.sqrt((yes4yes - no4no)**2/4 + no4yes*yes4no))\n",
    "'''"
   ]
  },
  {
   "cell_type": "code",
   "execution_count": 31,
   "metadata": {},
   "outputs": [],
   "source": [
    "import math\n",
    "# Calculate the best algorithm and its eigenvalue.\n",
    "min_eigen = 9\n",
    "best_algo = None\n",
    "for algo in total_algo[\"x\"*9]:\n",
    "    evals = evaluation(algo)\n",
    "    yes4yes = evals[0]\n",
    "    no4yes = evals[2]\n",
    "    yes4no = evals[4]\n",
    "    no4no = evals[6]\n",
    "    eigen = (yes4yes + no4no)/2 + math.sqrt((yes4yes - no4no)**2/4 + no4yes*yes4no)\n",
    "    if eigen < min_eigen:\n",
    "        best_algo = algo\n",
    "        min_eigen = eigen"
   ]
  },
  {
   "cell_type": "code",
   "execution_count": 32,
   "metadata": {},
   "outputs": [
    {
     "data": {
      "text/plain": [
       "5.9816453557597065"
      ]
     },
     "execution_count": 32,
     "metadata": {},
     "output_type": "execute_result"
    }
   ],
   "source": [
    "min_eigen"
   ]
  },
  {
   "cell_type": "code",
   "execution_count": 33,
   "metadata": {
    "scrolled": true
   },
   "outputs": [
    {
     "data": {
      "text/plain": [
       "{'xxxxxxxxx': 0,\n",
       " 'xxx0xxxxx': 0,\n",
       " 'xxxx0xx0x': 1,\n",
       " '1xx0xx0xx': 4,\n",
       " '001xxx0xx': 7,\n",
       " '0x11xx0x0': 7,\n",
       " '0011xxxxx': 7,\n",
       " '0xx010xx1': 2,\n",
       " 'x1xx10100': 2,\n",
       " 'xx1xx0xxx': 3,\n",
       " 'x10xxxxx0': 5,\n",
       " '1x0xx1xxx': 7,\n",
       " 'xx1x0x1x0': 5,\n",
       " 'xx01xx011': 1,\n",
       " 'x1010xx10': 5,\n",
       " '001xx1110': 3,\n",
       " 'x01110001': 0,\n",
       " 'xxxx1xxxx': 0,\n",
       " 'x0xxxx1xx': 2,\n",
       " '1xxxxxx00': 6,\n",
       " 'x1xxxx010': 0,\n",
       " '11x0xx00x': 4,\n",
       " '001011xxx': 6,\n",
       " 'x0xx11x01': 0,\n",
       " 'xx011x100': 1,\n",
       " '1x100110x': 1,\n",
       " '1xxxx10xx': 7,\n",
       " '1xxx00xx1': 3,\n",
       " '100xx11xx': 7,\n",
       " '0x001x1x1': 5,\n",
       " '10xx11100': 2,\n",
       " 'xxx1xxxx1': 1,\n",
       " 'x1x1xxxx0': 2,\n",
       " '110x11x00': 6,\n",
       " 'x11xx01xx': 4,\n",
       " '0x1x1x0x1': 3,\n",
       " '11x001xx1': 6}"
      ]
     },
     "execution_count": 33,
     "metadata": {},
     "output_type": "execute_result"
    }
   ],
   "source": [
    "best_algo"
   ]
  },
  {
   "cell_type": "code",
   "execution_count": 34,
   "metadata": {},
   "outputs": [
    {
     "data": {
      "text/plain": [
       "(3.6666666666666665,\n",
       " '100110111',\n",
       " 1.6944444444444444,\n",
       " '101100011',\n",
       " 2.5555555555555554,\n",
       " '001110001',\n",
       " 4.111111111111111,\n",
       " '001110001')"
      ]
     },
     "execution_count": 34,
     "metadata": {},
     "output_type": "execute_result"
    }
   ],
   "source": [
    "evaluation(best_algo)"
   ]
  },
  {
   "cell_type": "code",
   "execution_count": null,
   "metadata": {},
   "outputs": [],
   "source": []
  }
 ],
 "metadata": {
  "@webio": {
   "lastCommId": null,
   "lastKernelId": null
  },
  "kernelspec": {
   "display_name": "Python 3",
   "language": "python",
   "name": "python3"
  },
  "language_info": {
   "codemirror_mode": {
    "name": "ipython",
    "version": 3
   },
   "file_extension": ".py",
   "mimetype": "text/x-python",
   "name": "python",
   "nbconvert_exporter": "python",
   "pygments_lexer": "ipython3",
   "version": "3.8.5"
  }
 },
 "nbformat": 4,
 "nbformat_minor": 4
}
